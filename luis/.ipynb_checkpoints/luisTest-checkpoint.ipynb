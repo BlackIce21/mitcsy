{
 "cells": [
  {
   "cell_type": "code",
   "execution_count": 24,
   "metadata": {},
   "outputs": [],
   "source": [
    "from luis_sdk import LUISClient\n",
    "import json"
   ]
  },
  {
   "cell_type": "code",
   "execution_count": 25,
   "metadata": {},
   "outputs": [],
   "source": [
    "def getLUISCreds():\n",
    "    credentials = json.load(open('../credentials.json'))\n",
    "    luisCreds = credentials['cognitiveServices']['luis']\n",
    "    return luisCreds"
   ]
  },
  {
   "cell_type": "code",
   "execution_count": 26,
   "metadata": {},
   "outputs": [],
   "source": [
    "luisCreds = getLUISCreds()"
   ]
  },
  {
   "cell_type": "code",
   "execution_count": 27,
   "metadata": {},
   "outputs": [],
   "source": [
    "luisClient = LUISClient(luisCreds['appID'], luisCreds['key'], True)"
   ]
  },
  {
   "cell_type": "code",
   "execution_count": 28,
   "metadata": {},
   "outputs": [],
   "source": [
    "def getPrediction(text):\n",
    "    luisClient = LUISClient(luisCreds['appID'], luisCreds['key'], True)\n",
    "    res = luisClient.predict(text)\n",
    "    return res"
   ]
  },
  {
   "cell_type": "code",
   "execution_count": 29,
   "metadata": {},
   "outputs": [],
   "source": [
    "def getIntent(res):\n",
    "    return res.get_top_intent().get_name()"
   ]
  },
  {
   "cell_type": "code",
   "execution_count": 34,
   "metadata": {},
   "outputs": [],
   "source": [
    "def getEntities(res):\n",
    "    entities = []\n",
    "    for entitity in res.get_entities():\n",
    "        print(entitity.get_type() + \" : \" + entitity.get_name())\n",
    "        entity = {entitity.get_type():entitity.get_name()}\n",
    "        entities.append(entity)\n",
    "    return entities"
   ]
  }
 ],
 "metadata": {
  "kernelspec": {
   "display_name": "Python 3",
   "language": "python",
   "name": "python3"
  },
  "language_info": {
   "codemirror_mode": {
    "name": "ipython",
    "version": 3
   },
   "file_extension": ".py",
   "mimetype": "text/x-python",
   "name": "python",
   "nbconvert_exporter": "python",
   "pygments_lexer": "ipython3",
   "version": "3.5.4"
  }
 },
 "nbformat": 4,
 "nbformat_minor": 2
}
