{
 "cells": [
  {
   "cell_type": "code",
   "execution_count": 1,
   "metadata": {},
   "outputs": [
    {
     "name": "stdout",
     "output_type": "stream",
     "text": [
      "Please enter your app Id:\n",
      "615f4aac-1ef3-486e-ad51-9b7007cfb7bb\n",
      "Please input your subscription key:\n",
      "4c1272f7e91642dea4eaba030886f465\n",
      "Please input the text to predict:\n",
      "what is rabies\n",
      "---------------------------------------------\n",
      "LUIS Response: \n",
      "Query: what is rabies\n",
      "Top Scoring Intent: medical.getDescription\n",
      "Entities:\n",
      "\"rabies\":\n",
      "Type: diseaseName, Score: 0.8774258\n"
     ]
    }
   ],
   "source": [
    "from luis_sdk import LUISClient\n",
    "\n",
    "def process_res(res):\n",
    "    '''\n",
    "    A function that processes the luis_response object and prints info from it.\n",
    "    :param res: A LUISResponse object containing the response data.\n",
    "    :return: None\n",
    "    '''\n",
    "    print('---------------------------------------------')\n",
    "    print('LUIS Response: ')\n",
    "    print('Query: ' + res.get_query())\n",
    "    print('Top Scoring Intent: ' + res.get_top_intent().get_name())\n",
    "    if res.get_dialog() is not None:\n",
    "        if res.get_dialog().get_prompt() is None:\n",
    "            print('Dialog Prompt: None')\n",
    "        else:\n",
    "            print('Dialog Prompt: ' + res.get_dialog().get_prompt())\n",
    "        if res.get_dialog().get_parameter_name() is None:\n",
    "            print('Dialog Parameter: None')\n",
    "        else:\n",
    "            print('Dialog Parameter Name: ' + res.get_dialog().get_parameter_name())\n",
    "        print('Dialog Status: ' + res.get_dialog().get_status())\n",
    "    print('Entities:')\n",
    "    for entity in res.get_entities():\n",
    "        print('\"%s\":' % entity.get_name())\n",
    "        print('Type: %s, Score: %s' % (entity.get_type(), entity.get_score()))\n",
    "\n",
    "try:\n",
    "    APPID = input('Please enter your app Id:\\n')\n",
    "    APPKEY = input('Please input your subscription key:\\n')\n",
    "    TEXT = input('Please input the text to predict:\\n')\n",
    "    CLIENT = LUISClient(APPID, APPKEY, True)\n",
    "    res = CLIENT.predict(TEXT)\n",
    "    while res.get_dialog() is not None and not res.get_dialog().is_finished():\n",
    "        TEXT = input('%s\\n'%res.get_dialog().get_prompt())\n",
    "        res = CLIENT.reply(TEXT, res)\n",
    "    process_res(res)\n",
    "except Exception as exc:\n",
    "    print(exc)"
   ]
  },
  {
   "cell_type": "code",
   "execution_count": null,
   "metadata": {},
   "outputs": [],
   "source": []
  }
 ],
 "metadata": {
  "kernelspec": {
   "display_name": "Python 3",
   "language": "python",
   "name": "python3"
  },
  "language_info": {
   "codemirror_mode": {
    "name": "ipython",
    "version": 3
   },
   "file_extension": ".py",
   "mimetype": "text/x-python",
   "name": "python",
   "nbconvert_exporter": "python",
   "pygments_lexer": "ipython3",
   "version": "3.5.4"
  }
 },
 "nbformat": 4,
 "nbformat_minor": 2
}
