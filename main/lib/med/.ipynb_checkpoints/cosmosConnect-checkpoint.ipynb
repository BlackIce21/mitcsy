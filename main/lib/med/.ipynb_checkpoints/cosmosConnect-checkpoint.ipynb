{
 "cells": [
  {
   "cell_type": "markdown",
   "metadata": {},
   "source": [
    "# Things To Do:\n",
    "1. Handle errors\n",
    "2. Make modular"
   ]
  },
  {
   "cell_type": "code",
   "execution_count": 75,
   "metadata": {},
   "outputs": [],
   "source": [
    "from pymongo import MongoClient\n",
    "import json"
   ]
  },
  {
   "cell_type": "code",
   "execution_count": 76,
   "metadata": {},
   "outputs": [],
   "source": [
    "def getDBCreds():\n",
    "    credentials = json.load(open('../credentials.json'))\n",
    "    dbCreds = credentials['database']\n",
    "    return dbCreds"
   ]
  },
  {
   "cell_type": "code",
   "execution_count": 77,
   "metadata": {},
   "outputs": [],
   "source": [
    "dbCreds = getDBCreds()"
   ]
  },
  {
   "cell_type": "code",
   "execution_count": 78,
   "metadata": {},
   "outputs": [],
   "source": [
    "def connectToDB(dbCreds):\n",
    "    cosmosConnString = \"mongodb://\" + dbCreds['username'] + \":\" + dbCreds['password'] + \"@\" + dbCreds['host'] + \":\" + str(dbCreds['port']) + \"/?ssl=true&replicaSet=globaldb\"\n",
    "    client = MongoClient(cosmosConnString)\n",
    "    return client"
   ]
  },
  {
   "cell_type": "code",
   "execution_count": 79,
   "metadata": {},
   "outputs": [],
   "source": [
    "client = connectToDB(dbCreds)"
   ]
  },
  {
   "cell_type": "code",
   "execution_count": 80,
   "metadata": {},
   "outputs": [],
   "source": [
    "def getLiterature(client):\n",
    "    db = client[\"admin\"]\n",
    "    literatureCollection = db[\"literatures\"]\n",
    "    return literatureCollection"
   ]
  },
  {
   "cell_type": "code",
   "execution_count": 81,
   "metadata": {},
   "outputs": [],
   "source": [
    "literatureCollection = getLiterature(client)"
   ]
  },
  {
   "cell_type": "code",
   "execution_count": 82,
   "metadata": {},
   "outputs": [],
   "source": [
    "def findSymptoms(diseaseName, literatureCollection):\n",
    "    result = literatureCollection.find_one(filter={\"title\" : diseaseName})\n",
    "    symptoms = \"\"\n",
    "    for symptom in result[\"symptoms\"]:\n",
    "        symptoms = symptoms + \", \" + symptom\n",
    "    response = \"The symptoms of \" + diseaseName + \" are \" + symptoms\n",
    "    return response"
   ]
  },
  {
   "cell_type": "code",
   "execution_count": 83,
   "metadata": {},
   "outputs": [],
   "source": [
    "def findDescription(diseaseName, literatureCollection):\n",
    "    result = literatureCollection.find_one(filter={\"title\" : diseaseName})\n",
    "    diseaseDescription = result[\"content\"]\n",
    "    return diseaseDescription"
   ]
  },
  {
   "cell_type": "code",
   "execution_count": 84,
   "metadata": {},
   "outputs": [
    {
     "name": "stdout",
     "output_type": "stream",
     "text": [
      "Ask me a question. Types of questions supported are:\n",
      "1. Symptoms of a diesease\n",
      "2. Description of a diesease\n",
      "Enter choice: 1\n"
     ]
    }
   ],
   "source": [
    "print(\"Ask me a question. Types of questions supported are:\")\n",
    "print(\"1. Symptoms of a diesease\")\n",
    "print(\"2. Description of a diesease\")\n",
    "option = input(\"Enter choice: \")\n",
    "option = int(option)"
   ]
  },
  {
   "cell_type": "code",
   "execution_count": 91,
   "metadata": {},
   "outputs": [
    {
     "name": "stdout",
     "output_type": "stream",
     "text": [
      "Which disease?\n",
      "Enter disease name: malaria\n",
      "The symptoms of malaria are , chills, fatigue, diarrhoea, shivering\n"
     ]
    }
   ],
   "source": [
    "print(\"Which disease?\")\n",
    "diseaseName = input(\"Enter disease name: \")\n",
    "if(option == 1):\n",
    "    print(findSymptoms(diseaseName, literatureCollection=literatureCollection))\n",
    "elif(option == 2):\n",
    "    print(findDescription(diseaseName, literatureCollection=literatureCollection))"
   ]
  },
  {
   "cell_type": "code",
   "execution_count": null,
   "metadata": {},
   "outputs": [],
   "source": []
  }
 ],
 "metadata": {
  "kernelspec": {
   "display_name": "Python 3",
   "language": "python",
   "name": "python3"
  },
  "language_info": {
   "codemirror_mode": {
    "name": "ipython",
    "version": 3
   },
   "file_extension": ".py",
   "mimetype": "text/x-python",
   "name": "python",
   "nbconvert_exporter": "python",
   "pygments_lexer": "ipython3",
   "version": "3.5.4"
  }
 },
 "nbformat": 4,
 "nbformat_minor": 2
}
