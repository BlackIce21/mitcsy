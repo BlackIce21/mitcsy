{
 "cells": [
  {
   "cell_type": "code",
   "execution_count": 1,
   "metadata": {},
   "outputs": [],
   "source": [
    "from lib.luisHelper.luisHelper import getIntentAndEntities,getLUISCreds\n",
    "from lib.med.medHelper import medicalQuery\n",
    "from lib.ocr.ocr import getRecognizedText"
   ]
  },
  {
   "cell_type": "code",
   "execution_count": 2,
   "metadata": {},
   "outputs": [
    {
     "name": "stdout",
     "output_type": "stream",
     "text": [
      "<lib.luisHelper.luis_sdk.luis_response.LUISResponse object at 0x0000025C3D78D6A0>\n",
      "'medical.getDescription'\n",
      "diseaseName : malaria\n",
      "[{'diseaseName': 'malaria'}]\n"
     ]
    }
   ],
   "source": [
    "res = getIntentAndEntities(\"what is malaria\")"
   ]
  },
  {
   "cell_type": "code",
   "execution_count": 3,
   "metadata": {},
   "outputs": [
    {
     "name": "stdout",
     "output_type": "stream",
     "text": [
      "D:\\chirag\\pythonProgs\\mitcsy\\main\n"
     ]
    },
    {
     "data": {
      "text/plain": [
       "'A disease caused by a parasite, transmitted by the bite of infected mosquitoes.'"
      ]
     },
     "execution_count": 3,
     "metadata": {},
     "output_type": "execute_result"
    }
   ],
   "source": [
    "medicalQuery(res)"
   ]
  }
 ],
 "metadata": {
  "kernelspec": {
   "display_name": "Python 3",
   "language": "python",
   "name": "python3"
  },
  "language_info": {
   "codemirror_mode": {
    "name": "ipython",
    "version": 3
   },
   "file_extension": ".py",
   "mimetype": "text/x-python",
   "name": "python",
   "nbconvert_exporter": "python",
   "pygments_lexer": "ipython3",
   "version": "3.5.4"
  }
 },
 "nbformat": 4,
 "nbformat_minor": 2
}
