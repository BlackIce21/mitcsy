{
 "cells": [
  {
   "cell_type": "markdown",
   "metadata": {},
   "source": [
    "## Libraries:"
   ]
  },
  {
   "cell_type": "code",
   "execution_count": 298,
   "metadata": {},
   "outputs": [],
   "source": [
    "from pymongo import MongoClient\n",
    "import json\n",
    "import pandas as pd\n",
    "from pprint import pprint"
   ]
  },
  {
   "cell_type": "markdown",
   "metadata": {},
   "source": [
    "\n",
    "# Global Variables:"
   ]
  },
  {
   "cell_type": "code",
   "execution_count": 165,
   "metadata": {},
   "outputs": [],
   "source": [
    "dbCreds = getDBCreds()\n",
    "client = connectToDB(dbCreds)\n",
    "symptomList = getSymptomList(client)\n",
    "dfColumns = [\"True\"]\n",
    "\n",
    "symptomDf = pd.DataFrame(index=testSymptomList, columns=dfColumns)\n",
    "\n",
    "symptomDf = testDf.fillna(0)"
   ]
  },
  {
   "cell_type": "markdown",
   "metadata": {},
   "source": [
    "# Helper Functions"
   ]
  },
  {
   "cell_type": "markdown",
   "metadata": {},
   "source": [
    "### DB Helper Functions:"
   ]
  },
  {
   "cell_type": "code",
   "execution_count": 4,
   "metadata": {},
   "outputs": [],
   "source": [
    "def getDBCreds():\n",
    "    credentials = json.load(open('../credentials.json'))\n",
    "    dbCreds = credentials['database']\n",
    "    return dbCreds"
   ]
  },
  {
   "cell_type": "code",
   "execution_count": 6,
   "metadata": {},
   "outputs": [],
   "source": [
    "def connectToDB(dbCreds):\n",
    "    cosmosConnString = \"mongodb://\" + dbCreds['username'] + \":\" + dbCreds['password'] + \"@\" + dbCreds['host'] + \":\" + str(dbCreds['port']) + \"/?ssl=true&replicaSet=globaldb\"\n",
    "    client = MongoClient(cosmosConnString)\n",
    "    return client"
   ]
  },
  {
   "cell_type": "markdown",
   "metadata": {},
   "source": [
    "### Disease Helper Funtions:"
   ]
  },
  {
   "cell_type": "code",
   "execution_count": 8,
   "metadata": {},
   "outputs": [],
   "source": [
    "def getLiterature(client):\n",
    "    db = client[\"admin\"]\n",
    "    literatureCollection = db[\"literatures\"]\n",
    "    return literatureCollection"
   ]
  },
  {
   "cell_type": "code",
   "execution_count": 108,
   "metadata": {},
   "outputs": [],
   "source": [
    "def getSymptomList(client):\n",
    "    db = client['admin']\n",
    "    symptomCollection = db['symptoms']\n",
    "    symptomListCursor = symptomCollection.find(filter={})\n",
    "    symptomList = []\n",
    "    for element in symptomListCursor:\n",
    "        symptomList.append(element['name'])\n",
    "    return symptomList"
   ]
  },
  {
   "cell_type": "code",
   "execution_count": 159,
   "metadata": {},
   "outputs": [
    {
     "name": "stdout",
     "output_type": "stream",
     "text": [
      "Adding symptom to validSymptom list\n",
      "fever\n"
     ]
    }
   ],
   "source": [
    "targetSymptoms = []\n",
    "for index,row in testDf.iterrows():\n",
    "    if(row.iloc[0] == 1):\n",
    "        print(\"Adding symptom to targetSymptom list\")\n",
    "        print(row.name)\n",
    "        validSymptoms.append(row.name)"
   ]
  },
  {
   "cell_type": "code",
   "execution_count": 286,
   "metadata": {},
   "outputs": [],
   "source": [
    "def diagnoseDisease(client):\n",
    "    flag = False\n",
    "    targetSymptoms = []\n",
    "    nonTargetSymptoms = []\n",
    "    symptomList = getSymptomList(client)\n",
    "    symptomListLength = len(symptomList)\n",
    "    count = 0\n",
    "    while(flag !=True):\n",
    "        for symptom in symptomList:\n",
    "            ans = input(\"Do you have \" + symptom + \"? \\n\")\n",
    "            if(ans == 'yes'):\n",
    "                targetSymptoms.append(symptom)\n",
    "                queryResult = getDiseaseList(targetSymptoms, nonTargetSymptoms, len(targetSymptoms), len(nonTargetSymptoms))\n",
    "                if(queryResult['count']==1):\n",
    "                    flag = True\n",
    "                    return(queryResult)\n",
    "                if(queryResult['count']==0):\n",
    "                    flag = True\n",
    "                    return(queryResult)\n",
    "            else:\n",
    "                nonTargetSymptoms.append(symptom)\n",
    "                queryResult = getDiseaseList(targetSymptoms, nonTargetSymptoms, len(targetSymptoms), len(nonTargetSymptoms))\n",
    "                if(queryResult['count']==0):\n",
    "                    flag = True\n",
    "                    return(queryResult)"
   ]
  },
  {
   "cell_type": "code",
   "execution_count": 256,
   "metadata": {},
   "outputs": [],
   "source": [
    "def getDiseaseList(symptoms, nonTargetSymptoms, targetSymptomCount, nonTargetSymptomCount):\n",
    "    literatureCollection = getLiterature(client)\n",
    "    if(targetSymptomCount==0):\n",
    "        diseaseList = literatureCollection.find(filter={\"symptoms\" : {\"$nin\" : nonTargetSymptoms}})\n",
    "    else:\n",
    "        diseaseList = literatureCollection.find(filter={\"symptoms\" : {\"$all\" : symptoms, \"$nin\" : nonTargetSymptoms}})\n",
    "    count = 0\n",
    "    diseases = []\n",
    "    for disease in diseaseList:\n",
    "        count = count + 1\n",
    "        diseases.append(disease['title'])\n",
    "    return({\"diseases\":diseases,\"count\":count})"
   ]
  },
  {
   "cell_type": "code",
   "execution_count": 8,
   "metadata": {},
   "outputs": [],
   "source": [
    "def findSymptoms(diseaseName, literatureCollection):\n",
    "    result = literatureCollection.find_one(filter={\"title\" : diseaseName})\n",
    "    symptoms = \"\"\n",
    "    for symptom in result[\"symptoms\"]:\n",
    "        symptoms = symptoms + \", \" + symptom\n",
    "    response = \"The symptoms of \" + diseaseName + \" are \" + symptoms\n",
    "    return response"
   ]
  },
  {
   "cell_type": "code",
   "execution_count": 9,
   "metadata": {},
   "outputs": [],
   "source": [
    "def findDescription(diseaseName, literatureCollection):\n",
    "    result = literatureCollection.find_one(filter={\"title\" : diseaseName})\n",
    "    diseaseDescription = result[\"content\"]\n",
    "    return diseaseDescription"
   ]
  }
 ],
 "metadata": {
  "kernelspec": {
   "display_name": "Python 3",
   "language": "python",
   "name": "python3"
  },
  "language_info": {
   "codemirror_mode": {
    "name": "ipython",
    "version": 3
   },
   "file_extension": ".py",
   "mimetype": "text/x-python",
   "name": "python",
   "nbconvert_exporter": "python",
   "pygments_lexer": "ipython3",
   "version": "3.5.4"
  }
 },
 "nbformat": 4,
 "nbformat_minor": 2
}
