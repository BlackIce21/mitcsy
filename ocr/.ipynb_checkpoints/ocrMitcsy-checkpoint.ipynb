{
 "cells": [
  {
   "cell_type": "markdown",
   "metadata": {},
   "source": [
    "# OCR\n",
    "\n",
    "Here, we first use OCR to get text data from the images. Following which, we store that data in a repo that allows for querying and retrieving."
   ]
  },
  {
   "cell_type": "code",
   "execution_count": 16,
   "metadata": {},
   "outputs": [],
   "source": [
    "import requests\n",
    "import pandas as pd\n",
    "import numpy as np"
   ]
  },
  {
   "cell_type": "code",
   "execution_count": 7,
   "metadata": {},
   "outputs": [],
   "source": [
    "#Access keys:\n",
    "ocrKey = 'cbc86323d05d4bcf93e284a984ee512b'\n",
    "textAnalyticsKey = 'f359a2c499bd460e9026830bcb06ae9e'"
   ]
  },
  {
   "cell_type": "code",
   "execution_count": 1,
   "metadata": {},
   "outputs": [],
   "source": [
    "imageURL = {\"url\" : \"https://i.imgur.com/OgGirKX.jpg\"}"
   ]
  },
  {
   "cell_type": "code",
   "execution_count": 103,
   "metadata": {},
   "outputs": [],
   "source": [
    "localImage = open(\"C:/Users/ChiragS/Pictures/Screenshots/ocr_test2.png\",'rb')"
   ]
  },
  {
   "cell_type": "code",
   "execution_count": 104,
   "metadata": {},
   "outputs": [],
   "source": [
    "endPoint = \"https://eastus2.api.cognitive.microsoft.com/vision/v1.0/\"\n",
    "ocrRoute = \"ocr\""
   ]
  },
  {
   "cell_type": "code",
   "execution_count": 105,
   "metadata": {},
   "outputs": [],
   "source": [
    "fullServiceEndPoint = endPoint + ocrRoute"
   ]
  },
  {
   "cell_type": "code",
   "execution_count": 106,
   "metadata": {},
   "outputs": [],
   "source": [
    "params = {\n",
    "    \"language\" : \"unk\", #auto detect langauge\n",
    "}"
   ]
  },
  {
   "cell_type": "code",
   "execution_count": 107,
   "metadata": {},
   "outputs": [],
   "source": [
    "jsonContentType = \"application/json\"\n",
    "octetContentType = \"application/octet-stream\""
   ]
  },
  {
   "cell_type": "code",
   "execution_count": 108,
   "metadata": {},
   "outputs": [],
   "source": [
    "headers = {\n",
    "    \"Content-Type\" : octetContentType,\n",
    "    \"Ocp-Apim-Subscription-Key\" : ocrKey\n",
    "}"
   ]
  },
  {
   "cell_type": "code",
   "execution_count": 109,
   "metadata": {},
   "outputs": [],
   "source": [
    "response = requests.post(url=fullServiceEndPoint, data=localImage, params=params, headers=headers)"
   ]
  },
  {
   "cell_type": "code",
   "execution_count": 110,
   "metadata": {},
   "outputs": [
    {
     "data": {
      "text/plain": [
       "200"
      ]
     },
     "execution_count": 110,
     "metadata": {},
     "output_type": "execute_result"
    }
   ],
   "source": [
    "response.status_code"
   ]
  },
  {
   "cell_type": "code",
   "execution_count": 111,
   "metadata": {},
   "outputs": [
    {
     "data": {
      "text/plain": [
       "dict_keys(['language', 'textAngle', 'orientation', 'regions'])"
      ]
     },
     "execution_count": 111,
     "metadata": {},
     "output_type": "execute_result"
    }
   ],
   "source": [
    "response.json().keys()"
   ]
  },
  {
   "cell_type": "code",
   "execution_count": 112,
   "metadata": {},
   "outputs": [],
   "source": [
    "jsonResponse = response.json()"
   ]
  },
  {
   "cell_type": "code",
   "execution_count": 113,
   "metadata": {},
   "outputs": [],
   "source": [
    "imageRegions = jsonResponse[\"regions\"]"
   ]
  },
  {
   "cell_type": "code",
   "execution_count": 114,
   "metadata": {},
   "outputs": [
    {
     "data": {
      "text/plain": [
       "'14.1'"
      ]
     },
     "execution_count": 114,
     "metadata": {},
     "output_type": "execute_result"
    }
   ],
   "source": [
    "imageRegions[1][\"lines\"][0][\"words\"][0][\"text\"]"
   ]
  },
  {
   "cell_type": "markdown",
   "metadata": {},
   "source": [
    "### Image of Sample Blood Report:\n",
    "\n",
    "\n",
    "![Image of sample blood report](https://i.imgur.com/OgGirKX.jpg)\n",
    "\n",
    "This report features well defined segments that represent clear distinctions between the various elements of the blood report. However, the OCR service is still unable to properly organize the various aspects of the data"
   ]
  },
  {
   "cell_type": "code",
   "execution_count": 115,
   "metadata": {},
   "outputs": [
    {
     "name": "stdout",
     "output_type": "stream",
     "text": [
      "Complete\n",
      "Blood\n",
      "Count\n",
      "(CBC)\n",
      "------------End of line------------\n",
      "Haem\n",
      "ogl\n",
      "obin\n",
      "------------End of line------------\n",
      "Packed\n",
      "Cell\n",
      "Volume\n",
      "(PCV)\n",
      "------------End of line------------\n",
      "RBC\n",
      "Count\n",
      "------------End of line------------\n",
      "MCV\n",
      "------------End of line------------\n",
      "MCH\n",
      "------------End of line------------\n",
      "MCHC\n",
      "------------End of line------------\n",
      "Red\n",
      "Cell\n",
      "Distribution\n",
      "Width\n",
      "------------End of line------------\n",
      "Total\n",
      "Leukocyte\n",
      "Count\n",
      "------------End of line------------\n",
      "------------End of element------------\n",
      "14.1\n",
      "------------End of line------------\n",
      "43.2\n",
      "------------End of line------------\n",
      "32.6\n",
      "------------End of line------------\n",
      "13.9\n",
      "------------End of line------------\n",
      "6.16\n",
      "------------End of line------------\n",
      "------------End of element------------\n"
     ]
    }
   ],
   "source": [
    "lines = []\n",
    "for element in imageRegions:\n",
    "    for line in element[\"lines\"]:\n",
    "        words = []\n",
    "        for wordList in line[\"words\"]:\n",
    "            print(wordList[\"text\"])\n",
    "            words.append(wordList[\"text\"])\n",
    "        print(\"------------End of line------------\")\n",
    "        lines.append(words)\n",
    "    print(\"------------End of element------------\")\n",
    "            "
   ]
  },
  {
   "cell_type": "code",
   "execution_count": 116,
   "metadata": {},
   "outputs": [
    {
     "data": {
      "text/plain": [
       "[['Complete', 'Blood', 'Count', '(CBC)'],\n",
       " ['Haem', 'ogl', 'obin'],\n",
       " ['Packed', 'Cell', 'Volume', '(PCV)'],\n",
       " ['RBC', 'Count'],\n",
       " ['MCV'],\n",
       " ['MCH'],\n",
       " ['MCHC'],\n",
       " ['Red', 'Cell', 'Distribution', 'Width'],\n",
       " ['Total', 'Leukocyte', 'Count'],\n",
       " ['14.1'],\n",
       " ['43.2'],\n",
       " ['32.6'],\n",
       " ['13.9'],\n",
       " ['6.16']]"
      ]
     },
     "execution_count": 116,
     "metadata": {},
     "output_type": "execute_result"
    }
   ],
   "source": [
    "lines"
   ]
  },
  {
   "cell_type": "code",
   "execution_count": 118,
   "metadata": {},
   "outputs": [],
   "source": [
    "localImage.close()"
   ]
  },
  {
   "cell_type": "code",
   "execution_count": null,
   "metadata": {},
   "outputs": [],
   "source": []
  }
 ],
 "metadata": {
  "kernelspec": {
   "display_name": "Python 3",
   "language": "python",
   "name": "python3"
  },
  "language_info": {
   "codemirror_mode": {
    "name": "ipython",
    "version": 3
   },
   "file_extension": ".py",
   "mimetype": "text/x-python",
   "name": "python",
   "nbconvert_exporter": "python",
   "pygments_lexer": "ipython3",
   "version": "3.5.4"
  }
 },
 "nbformat": 4,
 "nbformat_minor": 2
}
