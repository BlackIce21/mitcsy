{
 "cells": [
  {
   "cell_type": "code",
   "execution_count": 1,
   "metadata": {},
   "outputs": [],
   "source": [
    "import json, requests, re\n",
    "import numpy as np\n",
    "from pprint import pprint\n",
    "from watson_developer_cloud import DiscoveryV1"
   ]
  },
  {
   "cell_type": "code",
   "execution_count": 2,
   "metadata": {},
   "outputs": [],
   "source": [
    "def getIBMCreds():\n",
    "    credentials = json.load(open('../credentials.json'))\n",
    "    ibmCreds = credentials['ibm']['discovery']\n",
    "    return ibmCreds"
   ]
  },
  {
   "cell_type": "code",
   "execution_count": 3,
   "metadata": {},
   "outputs": [],
   "source": [
    "def getQuery():\n",
    "    query = input('Enter the query to be searched: ')\n",
    "    return(query)"
   ]
  },
  {
   "cell_type": "code",
   "execution_count": 4,
   "metadata": {},
   "outputs": [],
   "source": [
    "def constructQuery(query):\n",
    "    query_options = {'natural_language_query': query,\n",
    "                 'count' : 3,\n",
    "                 'passages':True}\n",
    "    return(query_options)"
   ]
  },
  {
   "cell_type": "code",
   "execution_count": 5,
   "metadata": {},
   "outputs": [],
   "source": [
    "def getQueryResults(discoveryDetails, queryOptions):\n",
    "    env_id, collections, discovery = discoveryDetails\n",
    "    queryResults = discovery.query(environment_id=env_id, \n",
    "                               collection_id=collections[0]['collection_id'],\n",
    "                               natural_language_query=queryOptions['natural_language_query'], \n",
    "                               passages=queryOptions['passages'], count=queryOptions['count'])\n",
    "    return(queryResults)"
   ]
  },
  {
   "cell_type": "code",
   "execution_count": 38,
   "metadata": {},
   "outputs": [],
   "source": [
    "def cleanPassage(passage):\n",
    "    tagRegEx = re.compile('<.*?>')\n",
    "    cleanedText = re.sub(tagRegEx, '', passage)\n",
    "    cleanedText = cleanedText.rstrip()\n",
    "    cleanedText = cleanedText.replace('\\n', '. ')\n",
    "    return(cleanedText)"
   ]
  },
  {
   "cell_type": "code",
   "execution_count": 39,
   "metadata": {},
   "outputs": [],
   "source": [
    "def getPassage(queryResults):\n",
    "    passages = []\n",
    "    for passage in queryResults['passages']:\n",
    "        passages.append(passage)\n",
    "    passageScore = 0\n",
    "    targetPassages = []\n",
    "    for passage in passages:\n",
    "        for key in passage.keys():\n",
    "            if(passageScore < passage['passage_score']):\n",
    "                passageScore = passage['passage_score']\n",
    "                targetPassages.append(passage)\n",
    "    targetPassage = targetPassages[0]['passage_text']\n",
    "    cleanedPassage = cleanPassage(targetPassage)\n",
    "    print(\"Target passage is: \".format(\" \"))\n",
    "    print(targetPassage)\n",
    "    return(cleanedPassage)"
   ]
  },
  {
   "cell_type": "code",
   "execution_count": 40,
   "metadata": {},
   "outputs": [],
   "source": [
    "def askDiscovery():\n",
    "    ibmCreds = getIBMCreds()\n",
    "    discovery = DiscoveryV1(version='2017-11-07',\n",
    "                            username=ibmCreds['username'],\n",
    "                            password=ibmCreds['password'])\n",
    "    env = discovery.list_environments()['environments'][1]\n",
    "    env_id = env['environment_id']\n",
    "    collections = discovery.list_collections(env_id)\n",
    "    collections = collections['collections']\n",
    "    discoveryDetails = (env_id, collections, discovery)\n",
    "    query = getQuery()\n",
    "    print(\"\")\n",
    "    queryOptions = constructQuery(query)\n",
    "    queryResults = getQueryResults(discoveryDetails, queryOptions)\n",
    "    passage = getPassage(queryResults)\n",
    "    print(\"Passage to be returned is: {}\".format(\"\"))\n",
    "    print(\"========================================================================================\")\n",
    "    print(passage)\n",
    "    print(\"========================================================================================\")\n",
    "    return(passage)"
   ]
  },
  {
   "cell_type": "code",
   "execution_count": 46,
   "metadata": {},
   "outputs": [
    {
     "name": "stdout",
     "output_type": "stream",
     "text": [
      "Enter the query to be searched: what is Perception\n",
      "\n",
      "Target passage is: \n",
      "Functions\n",
      "\n",
      "Information from the sense organs is collected in the brain. There it is used to determine what actions the organism is to take. The brain processes the raw data to extract information about the structure of the environment.\n",
      "\n",
      "Perception\n",
      "\n",
      "The human brain is provided\n",
      "Passage to be returned is: \n",
      "========================================================================================\n",
      "Functions. . Information from the sense organs is collected in the brain. There it is used to determine what actions the organism is to take. The brain processes the raw data to extract information about the structure of the environment.. . Perception. . The human brain is provided\n",
      "========================================================================================\n"
     ]
    }
   ],
   "source": [
    "a = askDiscovery()"
   ]
  },
  {
   "cell_type": "code",
   "execution_count": 6,
   "metadata": {},
   "outputs": [],
   "source": [
    "# configurations = discovery.list_configurations(\n",
    "#     environment_id=env_id)\n",
    "# configurations = configurations['configurations']"
   ]
  }
 ],
 "metadata": {
  "kernelspec": {
   "display_name": "Python 3",
   "language": "python",
   "name": "python3"
  },
  "language_info": {
   "codemirror_mode": {
    "name": "ipython",
    "version": 3
   },
   "file_extension": ".py",
   "mimetype": "text/x-python",
   "name": "python",
   "nbconvert_exporter": "python",
   "pygments_lexer": "ipython3",
   "version": "3.5.4"
  }
 },
 "nbformat": 4,
 "nbformat_minor": 2
}
