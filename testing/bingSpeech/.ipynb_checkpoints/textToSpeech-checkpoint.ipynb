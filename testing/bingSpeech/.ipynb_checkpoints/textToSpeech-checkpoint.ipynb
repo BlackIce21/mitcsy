{
 "cells": [
  {
   "cell_type": "code",
   "execution_count": 1,
   "metadata": {
    "collapsed": true
   },
   "outputs": [],
   "source": [
    "import requests, wave, json"
   ]
  },
  {
   "cell_type": "code",
   "execution_count": 2,
   "metadata": {
    "collapsed": true
   },
   "outputs": [],
   "source": [
    "def getBingCreds():\n",
    "    credentials = json.load(open('../credentials.json'))\n",
    "    bingCreds = credentials['cognitiveServices']['bingSpeech']\n",
    "    return bingCreds"
   ]
  },
  {
   "cell_type": "code",
   "execution_count": 3,
   "metadata": {
    "collapsed": true
   },
   "outputs": [],
   "source": [
    "def getBingEndpoint():\n",
    "    return getBingCreds()['endPoint']\n",
    "\n",
    "def getBingKey():\n",
    "    return getBingCreds()['key']"
   ]
  },
  {
   "cell_type": "code",
   "execution_count": null,
   "metadata": {
    "collapsed": true
   },
   "outputs": [],
   "source": [
    "def getToken():\n",
    "    url = getBingEndpoint() + '/issueToken'\n",
    "    headers = {\n",
    "        \"Ocp-Apim-Subscription-Key\" : getBingKey()\n",
    "    }\n",
    "    req = requests.post(url=url, headers=headers)"
   ]
  }
 ],
 "metadata": {
  "kernelspec": {
   "display_name": "Python [default]",
   "language": "python",
   "name": "python3"
  },
  "language_info": {
   "codemirror_mode": {
    "name": "ipython",
    "version": 3
   },
   "file_extension": ".py",
   "mimetype": "text/x-python",
   "name": "python",
   "nbconvert_exporter": "python",
   "pygments_lexer": "ipython3",
   "version": "3.6.0"
  }
 },
 "nbformat": 4,
 "nbformat_minor": 2
}
