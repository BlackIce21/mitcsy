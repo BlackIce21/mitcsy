{
 "cells": [
  {
   "cell_type": "code",
   "execution_count": 1,
   "metadata": {},
   "outputs": [],
   "source": [
    "import requests, wave, json, base64, wave, pygame\n",
    "from pprint import pprint"
   ]
  },
  {
   "cell_type": "code",
   "execution_count": 19,
   "metadata": {},
   "outputs": [],
   "source": [
    "def getBingCreds():\n",
    "    '''\n",
    "    This function takes no arguments. It retrieves the credentials stored in the credentials file and returns it in dict format.\n",
    "    The keys for the resulting dictionary are:\n",
    "    1. key\n",
    "    2. endPoint\n",
    "    '''\n",
    "    credentials = json.load(open('../credentials.json'))\n",
    "    bingCreds = credentials['cognitiveServices']['bingSpeech']\n",
    "    return bingCreds\n",
    "\n",
    "def getBingKey():\n",
    "    return getBingCreds()['key']"
   ]
  },
  {
   "cell_type": "code",
   "execution_count": 20,
   "metadata": {},
   "outputs": [],
   "source": [
    "def getBingEndpoint():\n",
    "    '''\n",
    "    Returns the endpoint specified in the Azure resource page\n",
    "    '''\n",
    "    return getBingCreds()['endPoint']\n",
    "\n",
    "def getTTSEndpoint():\n",
    "    return(\"https://speech.platform.bing.com/synthesize\")\n",
    "\n",
    "def getSTTEndpoint(mode, lang):\n",
    "    return(\"https://speech.platform.bing.com/speech/recognition/\" + mode + \"/cognitiveservices/v1?language=\" + lang + \"&format=simple\")"
   ]
  },
  {
   "cell_type": "code",
   "execution_count": 17,
   "metadata": {},
   "outputs": [],
   "source": [
    "def createHeaders():\n",
    "    bingCreds = getBingCreds()\n",
    "    key = bingCreds['key']\n",
    "    headers = {\n",
    "        'Content-Type' : \"audio/wav; codec=audio/pcm; samplerate=16000\",\n",
    "        'Ocp-Apim-Subscription-Key' : key,\n",
    "    }\n",
    "    return(headers)"
   ]
  },
  {
   "cell_type": "code",
   "execution_count": null,
   "metadata": {},
   "outputs": [],
   "source": [
    "body = "
   ]
  }
 ],
 "metadata": {
  "kernelspec": {
   "display_name": "Python 3",
   "language": "python",
   "name": "python3"
  },
  "language_info": {
   "codemirror_mode": {
    "name": "ipython",
    "version": 3
   },
   "file_extension": ".py",
   "mimetype": "text/x-python",
   "name": "python",
   "nbconvert_exporter": "python",
   "pygments_lexer": "ipython3",
   "version": "3.5.4"
  }
 },
 "nbformat": 4,
 "nbformat_minor": 2
}
