{
 "cells": [
  {
   "cell_type": "code",
   "execution_count": 4,
   "metadata": {},
   "outputs": [],
   "source": [
    "import requests, json\n",
    "from pprint import pprint"
   ]
  },
  {
   "cell_type": "code",
   "execution_count": 3,
   "metadata": {},
   "outputs": [
    {
     "name": "stdout",
     "output_type": "stream",
     "text": [
      " Volume in drive D is Programs\n",
      " Volume Serial Number is F300-8420\n",
      "\n",
      " Directory of D:\\chirag\\pythonProgs\\mitcsy\\testing\n",
      "\n",
      "01-12-2017  03.17 PM    <DIR>          .\n",
      "01-12-2017  03.17 PM    <DIR>          ..\n",
      "01-12-2017  03.17 PM    <DIR>          .ipynb_checkpoints\n",
      "01-12-2017  11.21 AM               759 credentials.json\n",
      "01-12-2017  03.19 PM    <DIR>          face\n",
      "30-11-2017  10.37 PM    <DIR>          luis\n",
      "01-12-2017  12.12 PM    <DIR>          medicalQuery\n",
      "01-12-2017  02.54 PM    <DIR>          ocr\n",
      "               1 File(s)            759 bytes\n",
      "               7 Dir(s)  269,171,109,888 bytes free\n"
     ]
    }
   ],
   "source": [
    "def getfaceAPICreds():\n",
    "    credentials = json.loads(load(open('../credentials.json'))\n",
    "    faceCreds = credentials['']\n",
    "    return dbCreds"
   ]
  },
  {
   "cell_type": "code",
   "execution_count": null,
   "metadata": {},
   "outputs": [],
   "source": []
  }
 ],
 "metadata": {
  "kernelspec": {
   "display_name": "Python 3",
   "language": "python",
   "name": "python3"
  },
  "language_info": {
   "codemirror_mode": {
    "name": "ipython",
    "version": 3
   },
   "file_extension": ".py",
   "mimetype": "text/x-python",
   "name": "python",
   "nbconvert_exporter": "python",
   "pygments_lexer": "ipython3",
   "version": "3.5.4"
  }
 },
 "nbformat": 4,
 "nbformat_minor": 2
}
