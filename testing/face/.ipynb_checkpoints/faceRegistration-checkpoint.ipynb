{
 "cells": [
  {
   "cell_type": "code",
   "execution_count": 60,
   "metadata": {},
   "outputs": [],
   "source": [
    "import requests, json\n",
    "import cognitive_face as CF\n",
    "from pprint import pprint\n",
    "from pathlib import Path"
   ]
  },
  {
   "cell_type": "code",
   "execution_count": 20,
   "metadata": {},
   "outputs": [],
   "source": [
    "def getFaceAPICreds():\n",
    "    credentials = json.load(open('../credentials.json'))\n",
    "    faceCreds = credentials['cognitiveServices']['faceDetection']\n",
    "    return faceCreds"
   ]
  },
  {
   "cell_type": "code",
   "execution_count": 21,
   "metadata": {},
   "outputs": [],
   "source": [
    "def captureImages():\n",
    "    # Note: The captured images must be named face**.jpeg; \n",
    "    # Where ** represents numbers ranging from 00 to 10\n",
    "    # We need to get eleven images to train the model\n",
    "    pprint(\"Images captured!\")"
   ]
  },
  {
   "cell_type": "code",
   "execution_count": 72,
   "metadata": {},
   "outputs": [],
   "source": [
    "def getFaceDetectURL(faceCreds):\n",
    "    return(faceCreds['endPoint'] + '/detect')"
   ]
  },
  {
   "cell_type": "code",
   "execution_count": 67,
   "metadata": {},
   "outputs": [],
   "source": [
    "def getFaceKey(faceCreds):\n",
    "    return(faceCreds['key'])"
   ]
  },
  {
   "cell_type": "code",
   "execution_count": 47,
   "metadata": {},
   "outputs": [],
   "source": [
    "def checkCountValue(count):\n",
    "    if(count<10):\n",
    "        count = \"0\" + str(count)\n",
    "        return(count)\n",
    "    else:\n",
    "        return(count)"
   ]
  },
  {
   "cell_type": "code",
   "execution_count": 58,
   "metadata": {},
   "outputs": [],
   "source": [
    "def renameImages(p):\n",
    "    count = 0\n",
    "    for file in p.glob('*.jpg'):\n",
    "        imageCount = checkCountValue(count)\n",
    "        newImageName = \"image\" + checkCountValue(count) + \".jpg\"\n",
    "        print(\"Current file name is: \")\n",
    "        print(file)\n",
    "        file.rename(newImageName)\n",
    "        count = count + 1"
   ]
  },
  {
   "cell_type": "code",
   "execution_count": 101,
   "metadata": {},
   "outputs": [],
   "source": [
    "def createHeaders(subscription_key):\n",
    "    headers = {\n",
    "    'Content-Type': 'application/octet-stream',\n",
    "    'Ocp-Apim-Subscription-Key': subscription_key,\n",
    "    }\n",
    "    return(headers)"
   ]
  },
  {
   "cell_type": "code",
   "execution_count": 102,
   "metadata": {},
   "outputs": [],
   "source": [
    "def createParams():\n",
    "    params = {\n",
    "    'returnFaceId': 'true',\n",
    "    'returnFaceLandmarks': 'false',\n",
    "    'returnFaceAttributes': 'age,gender,blur,exposure,noise'\n",
    "    }\n",
    "    return(params)"
   ]
  },
  {
   "cell_type": "code",
   "execution_count": 109,
   "metadata": {},
   "outputs": [],
   "source": [
    "def getFaceID(res):\n",
    "    faceId = res.json()['faceId']\n",
    "    noiseLevel = res.json()['noise']['noiseLevel']\n",
    "    blurLevel = res.json()['blur']['blurLevel']\n",
    "    Commented for now; For extra functionality later\n",
    "    return({\n",
    "        \"faceId\" : faceId,\n",
    "        \"noiseLevel\" : noiseLevel,\n",
    "        \"blurLevel\" : blurLevel\n",
    "    })"
   ]
  },
  {
   "cell_type": "code",
   "execution_count": 103,
   "metadata": {},
   "outputs": [],
   "source": [
    "def generateFaceDetectRequest():\n",
    "    faceCreds = getFaceAPICreds()\n",
    "    key = getFaceKey(faceCreds)\n",
    "    headers = createHeaders(key)\n",
    "    params = createParams()\n",
    "    url = getFaceDetectURL(faceCreds)\n",
    "    body = open('./target.jpg', 'rb')\n",
    "    response = requests.post(url=url,data=body,params=params,headers=headers)\n",
    "    body.close()\n",
    "    faceID = getFaceID(response)['faceId']\n",
    "    return(faceID)"
   ]
  },
  {
   "cell_type": "code",
   "execution_count": null,
   "metadata": {},
   "outputs": [],
   "source": []
  }
 ],
 "metadata": {
  "kernelspec": {
   "display_name": "Python 3",
   "language": "python",
   "name": "python3"
  },
  "language_info": {
   "codemirror_mode": {
    "name": "ipython",
    "version": 3
   },
   "file_extension": ".py",
   "mimetype": "text/x-python",
   "name": "python",
   "nbconvert_exporter": "python",
   "pygments_lexer": "ipython3",
   "version": "3.5.4"
  }
 },
 "nbformat": 4,
 "nbformat_minor": 2
}
