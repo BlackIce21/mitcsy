{
 "cells": [
  {
   "cell_type": "code",
   "execution_count": 3,
   "metadata": {},
   "outputs": [],
   "source": [
    "import requests, json\n",
    "import cognitive_face as CF\n",
    "from pprint import pprint\n",
    "from pathlib import Path"
   ]
  },
  {
   "cell_type": "code",
   "execution_count": 4,
   "metadata": {},
   "outputs": [],
   "source": [
    "def getFaceAPICreds():\n",
    "    credentials = json.load(open('../credentials.json'))\n",
    "    faceCreds = credentials['cognitiveServices']['faceDetection']\n",
    "    return faceCreds"
   ]
  },
  {
   "cell_type": "code",
   "execution_count": 5,
   "metadata": {},
   "outputs": [],
   "source": [
    "def captureImages():\n",
    "    # Note: The captured images must be named face**.jpeg; \n",
    "    # Where ** represents numbers ranging from 00 to 10\n",
    "    # We need to get eleven images to train the model\n",
    "    pprint(\"Images captured!\")"
   ]
  },
  {
   "cell_type": "code",
   "execution_count": 6,
   "metadata": {},
   "outputs": [],
   "source": [
    "def getFaceDetectURL(faceCreds):\n",
    "    return(faceCreds['endPoint'] + '/detect')"
   ]
  },
  {
   "cell_type": "code",
   "execution_count": 7,
   "metadata": {},
   "outputs": [],
   "source": [
    "def getPersonGroupURL(faceCreds):\n",
    "    return(faceCreds['endPoint'] + '/persongroups')"
   ]
  },
  {
   "cell_type": "code",
   "execution_count": 8,
   "metadata": {},
   "outputs": [],
   "source": [
    "def getFaceKey(faceCreds):\n",
    "    return(faceCreds['key'])"
   ]
  },
  {
   "cell_type": "code",
   "execution_count": 9,
   "metadata": {},
   "outputs": [],
   "source": [
    "def checkCountValue(count):\n",
    "    if(count<10):\n",
    "        count = \"0\" + str(count)\n",
    "        return(count)\n",
    "    else:\n",
    "        return(count)"
   ]
  },
  {
   "cell_type": "code",
   "execution_count": 10,
   "metadata": {},
   "outputs": [],
   "source": [
    "def renameImages(p):\n",
    "    count = 0\n",
    "    for file in p.glob('*.jpg'):\n",
    "        imageCount = checkCountValue(count)\n",
    "        newImageName = \"image\" + checkCountValue(count) + \".jpg\"\n",
    "        print(\"Current file name is: \")\n",
    "        print(file)\n",
    "        file.rename(newImageName)\n",
    "        count = count + 1"
   ]
  },
  {
   "cell_type": "code",
   "execution_count": 11,
   "metadata": {},
   "outputs": [],
   "source": [
    "def createHeaders(subscription_key, contentType):\n",
    "    headers = {\n",
    "    'Content-Type': 'application/' + contentType,\n",
    "    'Ocp-Apim-Subscription-Key': subscription_key,\n",
    "    }\n",
    "    return(headers)"
   ]
  },
  {
   "cell_type": "code",
   "execution_count": 12,
   "metadata": {},
   "outputs": [],
   "source": [
    "def createParams():\n",
    "    params = {\n",
    "    'returnFaceId': 'true',\n",
    "    'returnFaceLandmarks': 'false',\n",
    "    'returnFaceAttributes': 'age,gender,blur,exposure,noise'\n",
    "    }\n",
    "    return(params)"
   ]
  },
  {
   "cell_type": "code",
   "execution_count": 13,
   "metadata": {},
   "outputs": [],
   "source": [
    "def getFaceDetails(res):\n",
    "    faceId = res.json()['faceId']\n",
    "    noiseLevel = res.json()['noise']['noiseLevel']\n",
    "    blurLevel = res.json()['blur']['blurLevel']\n",
    "#     all attributes not necessary; for extra functionality later:\n",
    "    return({\n",
    "        \"faceId\" : faceId,\n",
    "        \"noiseLevel\" : noiseLevel,\n",
    "        \"blurLevel\" : blurLevel\n",
    "    })"
   ]
  },
  {
   "cell_type": "code",
   "execution_count": 14,
   "metadata": {},
   "outputs": [],
   "source": [
    "def getFaceId():\n",
    "    faceCreds = getFaceAPICreds()\n",
    "    key = getFaceKey(faceCreds)\n",
    "    headers = createHeaders(key, 'octet-stream')\n",
    "    params = createParams()\n",
    "    url = getFaceDetectURL(faceCreds)\n",
    "    body = open('./target.jpg', 'rb')\n",
    "    response = requests.post(url=url,data=body,params=params,headers=headers)\n",
    "    body.close()\n",
    "    faceID = getFaceDetails(response)['faceId']\n",
    "    return(faceID)"
   ]
  },
  {
   "cell_type": "code",
   "execution_count": 30,
   "metadata": {},
   "outputs": [],
   "source": [
    "def createPersonGroup(groupDetails):\n",
    "    faceCreds = getFaceAPICreds()\n",
    "    url = getPersonGroupURL(faceCreds)\n",
    "    fullURL = url + \"/\" + groupId\n",
    "    key = getFaceKey(faceCreds)\n",
    "    headers = createHeaders(key, \"json\")\n",
    "    groupId = groupDetails['id']\n",
    "    groupName = groupDetails['name']\n",
    "    userData = groupDetails['userData']\n",
    "    jsonBody = {\n",
    "        \"name\" : groupName,\n",
    "        \"userData\" : userData\n",
    "    }\n",
    "    req = requests.put(url=fullURL, json=jsonBody, headers=headers)\n",
    "    if(req.status_code == 200):\n",
    "        print(\"Successfully created person group\")\n",
    "    else:\n",
    "        print(\"Something went wrong with person group creation\")\n",
    "        print(\"Status code: \" + req.status_code + \". Reason: \" + req.reason)\n",
    "    return(req)"
   ]
  },
  {
   "cell_type": "code",
   "execution_count": 25,
   "metadata": {},
   "outputs": [],
   "source": [
    "groupDetails = {\n",
    "    'id' : 'hospital_department',\n",
    "    'name' : 'manipal_orthopedics',\n",
    "    'userData' : 'group that manages Manipal hospital patients under the orthopedics department'\n",
    "}"
   ]
  },
  {
   "cell_type": "code",
   "execution_count": 26,
   "metadata": {},
   "outputs": [
    {
     "name": "stdout",
     "output_type": "stream",
     "text": [
      "https://eastus2.api.cognitive.microsoft.com/face/v1.0/persongroups\n"
     ]
    }
   ],
   "source": [
    "res = createPersonGroup(groupDetails)"
   ]
  },
  {
   "cell_type": "code",
   "execution_count": 39,
   "metadata": {},
   "outputs": [],
   "source": [
    "def getPersonGroupDetails(personGroupId):\n",
    "    faceCreds = getFaceAPICreds()\n",
    "    url = getPersonGroupURL(faceCreds)\n",
    "    headers = createHeaders(getFaceKey(faceCreds), 'json')\n",
    "    fullURL = url + \"/\" + personGroupId\n",
    "    req = requests.get(url=fullURL, headers=headers)\n",
    "    if(req.status_code == 200):\n",
    "        print(\"Name of group: \" + req['name'])\n",
    "        print(\"Group ID of group: \" + req['personGroupId'])\n",
    "        print(\"User data of group: \" + req['userData'])\n",
    "    else:\n",
    "        print(\"Error: \" + str(req.status_code))\n",
    "    return(req)"
   ]
  },
  {
   "cell_type": "code",
   "execution_count": null,
   "metadata": {},
   "outputs": [],
   "source": [
    "def "
   ]
  }
 ],
 "metadata": {
  "kernelspec": {
   "display_name": "Python 3",
   "language": "python",
   "name": "python3"
  },
  "language_info": {
   "codemirror_mode": {
    "name": "ipython",
    "version": 3
   },
   "file_extension": ".py",
   "mimetype": "text/x-python",
   "name": "python",
   "nbconvert_exporter": "python",
   "pygments_lexer": "ipython3",
   "version": "3.5.4"
  }
 },
 "nbformat": 4,
 "nbformat_minor": 2
}
