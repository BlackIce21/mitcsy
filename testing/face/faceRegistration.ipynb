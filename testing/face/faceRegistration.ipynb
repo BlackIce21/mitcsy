{
 "cells": [
  {
   "cell_type": "code",
   "execution_count": 74,
   "metadata": {},
   "outputs": [],
   "source": [
    "import requests, json\n",
    "import cognitive_face as CF\n",
    "from pprint import pprint\n",
    "from pathlib import Path\n",
    "from pymongo import MongoClient"
   ]
  },
  {
   "cell_type": "code",
   "execution_count": 4,
   "metadata": {},
   "outputs": [],
   "source": [
    "def getFaceAPICreds():\n",
    "    credentials = json.load(open('../credentials.json'))\n",
    "    faceCreds = credentials['cognitiveServices']['faceDetection']\n",
    "    return faceCreds"
   ]
  },
  {
   "cell_type": "code",
   "execution_count": 5,
   "metadata": {},
   "outputs": [],
   "source": [
    "def captureImages():\n",
    "    # Note: The captured images must be named face**.jpeg; \n",
    "    # Where ** represents numbers ranging from 00 to 10\n",
    "    # We need to get eleven images to train the model\n",
    "    pprint(\"Images captured!\")"
   ]
  },
  {
   "cell_type": "code",
   "execution_count": 93,
   "metadata": {},
   "outputs": [],
   "source": [
    "def getFaceDetectURL(faceCreds):\n",
    "    return(faceCreds['endPoint'] + '/detect')\n",
    "\n",
    "def getPersonGroupURL(faceCreds):\n",
    "    return(faceCreds['endPoint'] + '/persongroups')"
   ]
  },
  {
   "cell_type": "code",
   "execution_count": 8,
   "metadata": {},
   "outputs": [],
   "source": [
    "def getFaceKey(faceCreds):\n",
    "    return(faceCreds['key'])"
   ]
  },
  {
   "cell_type": "code",
   "execution_count": 9,
   "metadata": {},
   "outputs": [],
   "source": [
    "def checkCountValue(count):\n",
    "    if(count<10):\n",
    "        count = \"0\" + str(count)\n",
    "        return(count)\n",
    "    else:\n",
    "        return(count)"
   ]
  },
  {
   "cell_type": "code",
   "execution_count": 10,
   "metadata": {},
   "outputs": [],
   "source": [
    "def renameImages(p):\n",
    "    count = 0\n",
    "    for file in p.glob('*.jpg'):\n",
    "        imageCount = checkCountValue(count)\n",
    "        newImageName = \"image\" + checkCountValue(count) + \".jpg\"\n",
    "        print(\"Current file name is: \")\n",
    "        print(file)\n",
    "        file.rename(newImageName)\n",
    "        count = count + 1"
   ]
  },
  {
   "cell_type": "code",
   "execution_count": 11,
   "metadata": {},
   "outputs": [],
   "source": [
    "def createHeaders(subscription_key, contentType):\n",
    "    headers = {\n",
    "    'Content-Type': 'application/' + contentType,\n",
    "    'Ocp-Apim-Subscription-Key': subscription_key,\n",
    "    }\n",
    "    return(headers)"
   ]
  },
  {
   "cell_type": "code",
   "execution_count": 12,
   "metadata": {},
   "outputs": [],
   "source": [
    "def createParams():\n",
    "    params = {\n",
    "    'returnFaceId': 'true',\n",
    "    'returnFaceLandmarks': 'false',\n",
    "    'returnFaceAttributes': 'age,gender,blur,exposure,noise'\n",
    "    }\n",
    "    return(params)"
   ]
  },
  {
   "cell_type": "code",
   "execution_count": 13,
   "metadata": {},
   "outputs": [],
   "source": [
    "def getFaceDetails(res):\n",
    "    faceId = res.json()['faceId']\n",
    "    noiseLevel = res.json()['noise']['noiseLevel']\n",
    "    blurLevel = res.json()['blur']['blurLevel']\n",
    "#     all attributes not necessary; for extra functionality later:\n",
    "    return({\n",
    "        \"faceId\" : faceId,\n",
    "        \"noiseLevel\" : noiseLevel,\n",
    "        \"blurLevel\" : blurLevel\n",
    "    })"
   ]
  },
  {
   "cell_type": "code",
   "execution_count": 14,
   "metadata": {},
   "outputs": [],
   "source": [
    "def getFaceId():\n",
    "    faceCreds = getFaceAPICreds()\n",
    "    key = getFaceKey(faceCreds)\n",
    "    headers = createHeaders(key, 'octet-stream')\n",
    "    params = createParams()\n",
    "    url = getFaceDetectURL(faceCreds)\n",
    "    body = open('./target.jpg', 'rb')\n",
    "    response = requests.post(url=url,data=body,params=params,headers=headers)\n",
    "    body.close()\n",
    "    faceID = getFaceDetails(response)['faceId']\n",
    "    return(faceID)"
   ]
  },
  {
   "cell_type": "code",
   "execution_count": 30,
   "metadata": {},
   "outputs": [],
   "source": [
    "def createPersonGroup(groupDetails):\n",
    "    faceCreds = getFaceAPICreds()\n",
    "    url = getPersonGroupURL(faceCreds)\n",
    "    fullURL = url + \"/\" + groupId\n",
    "    key = getFaceKey(faceCreds)\n",
    "    headers = createHeaders(key, \"json\")\n",
    "    groupId = groupDetails['id']\n",
    "    groupName = groupDetails['name']\n",
    "    userData = groupDetails['userData']\n",
    "    jsonBody = {\n",
    "        \"name\" : groupName,\n",
    "        \"userData\" : userData\n",
    "    }\n",
    "    req = requests.put(url=fullURL, json=jsonBody, headers=headers)\n",
    "    if(req.status_code == 200):\n",
    "        print(\"Successfully created person group\")\n",
    "    else:\n",
    "        print(\"Something went wrong with person group creation\")\n",
    "        print(\"Status code: \" + req.status_code + \". Reason: \" + req.reason)\n",
    "    return(req)"
   ]
  },
  {
   "cell_type": "code",
   "execution_count": 25,
   "metadata": {},
   "outputs": [],
   "source": [
    "groupDetails = {\n",
    "    'id' : 'hospital_department',\n",
    "    'name' : 'manipal_orthopedics',\n",
    "    'userData' : 'group that manages Manipal hospital patients under the orthopedics department'\n",
    "}"
   ]
  },
  {
   "cell_type": "code",
   "execution_count": 79,
   "metadata": {},
   "outputs": [],
   "source": [
    "# res = createPersonGroup(groupDetails)"
   ]
  },
  {
   "cell_type": "code",
   "execution_count": 39,
   "metadata": {},
   "outputs": [],
   "source": [
    "def getPersonGroupDetails(personGroupId):\n",
    "    faceCreds = getFaceAPICreds()\n",
    "    url = getPersonGroupURL(faceCreds)\n",
    "    headers = createHeaders(getFaceKey(faceCreds), 'json')\n",
    "    fullURL = url + \"/\" + personGroupId\n",
    "    req = requests.get(url=fullURL, headers=headers)\n",
    "    if(req.status_code == 200):\n",
    "        print(\"Name of group: \" + req['name'])\n",
    "        print(\"Group ID of group: \" + req['personGroupId'])\n",
    "        print(\"User data of group: \" + req['userData'])\n",
    "    else:\n",
    "        print(\"Error: \" + str(req.status_code))\n",
    "    return(req)"
   ]
  },
  {
   "cell_type": "code",
   "execution_count": 43,
   "metadata": {},
   "outputs": [],
   "source": [
    "def listPersonGroups():\n",
    "    faceCreds = getFaceAPICreds()\n",
    "    key = getFaceKey(faceCreds)\n",
    "    url = getPersonGroupURL(faceCreds)\n",
    "    headers = createHeaders(key, 'json')\n",
    "    req = requests.get(url=url, headers=headers)\n",
    "    if(req.status_code == 200):\n",
    "        print(\"Success\")\n",
    "    else:\n",
    "        print(\"Something went wrong\")\n",
    "    return(req)"
   ]
  },
  {
   "cell_type": "code",
   "execution_count": 56,
   "metadata": {},
   "outputs": [],
   "source": [
    "def getPersonGroupTrainingStatus(personGroupId):\n",
    "    faceCreds = getFaceAPICreds()\n",
    "    key = getFaceKey(faceCreds)\n",
    "    headers = createHeaders(key, 'json')\n",
    "    url = getPersonGroupURL(faceCreds)\n",
    "    fullURL = url + '/' + personGroupId + '/training'\n",
    "    req = requests.get(url=fullURL, headers=headers)\n",
    "    if(req.status_code != 200):\n",
    "        print(req.json()['error']['message'])\n",
    "    else:\n",
    "        print(req.json()['status'])\n",
    "    return(req)"
   ]
  },
  {
   "cell_type": "code",
   "execution_count": 58,
   "metadata": {},
   "outputs": [],
   "source": [
    "def trainPersonGroup(personGroupId):\n",
    "    faceCreds = getFaceAPICreds()\n",
    "    key = getFaceKey(faceCreds)\n",
    "    headers = createHeaders(key, 'json')\n",
    "    url = getPersonGroupURL(faceCreds)\n",
    "    fullURL = url + '/' + personGroupId + '/train'\n",
    "    req = requests.get(url=fullURL, headers=headers)\n",
    "    if(req.status_code == 202):\n",
    "        print(\"Training has begun\")\n",
    "    else:\n",
    "        print(\"Something went wrong\")\n",
    "        print(req.json()['error']['message'])\n",
    "    return(req)"
   ]
  },
  {
   "cell_type": "code",
   "execution_count": 89,
   "metadata": {},
   "outputs": [],
   "source": [
    "def createPerson(personGroupId, name, userData):\n",
    "    faceCreds = getFaceAPICreds()\n",
    "    key = getFaceKey(faceCreds)\n",
    "    headers = createHeaders(key, 'json')\n",
    "    url = getPersonGroupURL(faceCreds)\n",
    "    fullURL = url + '/' + personGroupId + '/persons'\n",
    "    body = {\n",
    "        \"name\" : name,\n",
    "        \"userData\" : userData\n",
    "    }\n",
    "    req = requests.post(url=fullURL, headers=headers, json=body)\n",
    "    if(req.status_code == 200):\n",
    "        print(\"Success\")\n",
    "        pprint(req.json())\n",
    "        dbEntryResult = savePersonId(personGroupId, name, req.json()['personId'])\n",
    "        if(result.acknowledged):\n",
    "            print(\"Stored in DB!\")\n",
    "    else:\n",
    "        print(\"Error: \" + str(req.status_code))\n",
    "    return(req)"
   ]
  },
  {
   "cell_type": "code",
   "execution_count": 71,
   "metadata": {},
   "outputs": [],
   "source": [
    "def getDBCreds():\n",
    "    credentials = json.load(open('../credentials.json'))\n",
    "    dbCreds = credentials['database']\n",
    "    return dbCreds\n",
    "\n",
    "def connectToDB(dbCreds):\n",
    "    cosmosConnString = \"mongodb://\" + dbCreds['username'] + \":\" + dbCreds['password'] + \"@\" + dbCreds['host'] + \":\" + str(dbCreds['port']) + \"/?ssl=true&replicaSet=globaldb\"\n",
    "    client = MongoClient(cosmosConnString)\n",
    "    return client\n",
    "\n",
    "def getClient():\n",
    "    dbCreds = getDBCreds()\n",
    "    client = connectToDB(dbCreds)\n",
    "    return client\n",
    "\n",
    "def getPatients(client):\n",
    "    db = client[\"admin\"]\n",
    "    patientCollection = db[\"patients\"]\n",
    "    return patientCollection"
   ]
  },
  {
   "cell_type": "code",
   "execution_count": 84,
   "metadata": {},
   "outputs": [],
   "source": [
    "def savePersonId(personGroupId, name, personId):\n",
    "    client = getClient()\n",
    "    patientCollection = getPatients(client)\n",
    "    dbEntry = {\n",
    "        \"name\" : name,\n",
    "        \"personGroupId\" : personGroupId,\n",
    "        \"personId\" : personId\n",
    "    }\n",
    "    result = patientCollection.insert_one(dbEntry)\n",
    "    return(result)"
   ]
  },
  {
   "cell_type": "code",
   "execution_count": 99,
   "metadata": {},
   "outputs": [],
   "source": [
    "# result = savePersonId(\"hospital_department\", \"chirag\", \"00134c21-4094-410b-91be-bf52e34f251b\")"
   ]
  },
  {
   "cell_type": "code",
   "execution_count": 98,
   "metadata": {},
   "outputs": [
    {
     "name": "stdout",
     "output_type": "stream",
     "text": [
      "arzan\\image01.jpg\n",
      "arzan\\image02.jpg\n",
      "arzan\\image03.jpg\n",
      "arzan\\image04.jpg\n",
      "arzan\\image05.jpg\n",
      "arzan\\image06.jpg\n"
     ]
    }
   ],
   "source": [
    "p = Path('./arzan')\n",
    "for file in p.glob('*.jpg'):\n",
    "    image = open('file', 'rb')\n",
    "    addPersonFace(image, personGroupId, personId)\n",
    "    "
   ]
  },
  {
   "cell_type": "code",
   "execution_count": null,
   "metadata": {},
   "outputs": [],
   "source": []
  }
 ],
 "metadata": {
  "kernelspec": {
   "display_name": "Python 3",
   "language": "python",
   "name": "python3"
  },
  "language_info": {
   "codemirror_mode": {
    "name": "ipython",
    "version": 3
   },
   "file_extension": ".py",
   "mimetype": "text/x-python",
   "name": "python",
   "nbconvert_exporter": "python",
   "pygments_lexer": "ipython3",
   "version": "3.5.4"
  }
 },
 "nbformat": 4,
 "nbformat_minor": 2
}
