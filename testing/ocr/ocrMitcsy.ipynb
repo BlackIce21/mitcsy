{
 "cells": [
  {
   "cell_type": "markdown",
   "metadata": {},
   "source": [
    "# Handwritten OCR\n",
    "\n",
    "Here, we first use OCR to get text data from the images. Following which, we store that data in a repo that allows for querying and retrieving."
   ]
  },
  {
   "cell_type": "code",
   "execution_count": 91,
   "metadata": {},
   "outputs": [],
   "source": [
    "from pymongo import MongoClient\n",
    "import json, requests, time\n",
    "import pandas as pd\n",
    "from pprint import pprint"
   ]
  },
  {
   "cell_type": "code",
   "execution_count": 33,
   "metadata": {},
   "outputs": [],
   "source": [
    "def getCVCreds():\n",
    "    credentials = json.load(open('../credentials.json'))\n",
    "    cvCreds = credentials['cognitiveServices']['computerVision']\n",
    "    return cvCreds"
   ]
  },
  {
   "cell_type": "code",
   "execution_count": 80,
   "metadata": {},
   "outputs": [],
   "source": [
    "def getCVRequestURL(cvCreds):\n",
    "    fullEndpoint = cvCreds['endPoint'] + \"/RecognizeText\"\n",
    "    return(fullEndpoint)"
   ]
  },
  {
   "cell_type": "code",
   "execution_count": 81,
   "metadata": {},
   "outputs": [],
   "source": [
    "def getCVOperationsURL(cvCreds):\n",
    "    fullEndPoint = cvCreds['endPoint'] + \"/textOperations\"\n",
    "    return(fullEndPoint)"
   ]
  },
  {
   "cell_type": "code",
   "execution_count": 73,
   "metadata": {},
   "outputs": [],
   "source": [
    "def getOperationsID(headers, cvCreds):\n",
    "    getCVOperationsURL(cvCreds)\n",
    "    operationsID = operationsLocation.split('https://eastus2.api.cognitive.microsoft.com/vision/v1.0/textOperations')[1]\n",
    "    operationsID = operationsID.replace(\"/\",\"\")\n",
    "    return(operationsID)"
   ]
  },
  {
   "cell_type": "code",
   "execution_count": 35,
   "metadata": {},
   "outputs": [],
   "source": [
    "def getCVKey(cvCreds):\n",
    "    return cvCreds['key']"
   ]
  },
  {
   "cell_type": "code",
   "execution_count": 36,
   "metadata": {},
   "outputs": [],
   "source": [
    "def createHeaders(subscription_key):\n",
    "    headers = {\n",
    "    'Content-Type': 'application/octet-stream',\n",
    "    'Ocp-Apim-Subscription-Key': subscription_key,\n",
    "    }\n",
    "    return(headers)"
   ]
  },
  {
   "cell_type": "code",
   "execution_count": 37,
   "metadata": {},
   "outputs": [],
   "source": [
    "def createParams():\n",
    "    params = {\n",
    "        \"handwriting\" : 'true'\n",
    "    }\n",
    "    return params"
   ]
  },
  {
   "cell_type": "code",
   "execution_count": 116,
   "metadata": {},
   "outputs": [],
   "source": [
    "def generateOCRRequest():\n",
    "    cvCreds = getCVCreds()\n",
    "    endpoint = getCVRequestURL(cvCreds=cvCreds)\n",
    "    key = getCVKey(cvCreds)\n",
    "    headers = createHeaders(key)\n",
    "    params = createParams()\n",
    "    body = open('./sample.png','rb')\n",
    "    response = requests.post(url=endpoint, headers=headers, params=params, data=body)\n",
    "    body.close()\n",
    "    response.close()\n",
    "    return(response,headers)"
   ]
  },
  {
   "cell_type": "code",
   "execution_count": 113,
   "metadata": {},
   "outputs": [],
   "source": [
    "def handleResponse(res,headers):\n",
    "    if(res.status_code != 202):\n",
    "        pprint(\"Error: \" + res.status_code)\n",
    "        pprint(\"Error: \" + res.reason)\n",
    "        return(res.reason)\n",
    "    else:\n",
    "        pprint(\"OCR submitted for analysis, stand by. This may take up to ten seconds\")\n",
    "        time.sleep(5)\n",
    "        operationsLocation = res.headers['Operation-Location']\n",
    "        analyzedText = checkStatus(operationsLocation,headers)\n",
    "        return(analyzedText)"
   ]
  },
  {
   "cell_type": "code",
   "execution_count": 114,
   "metadata": {},
   "outputs": [],
   "source": [
    "def checkStatus(operationsLocation, headers):\n",
    "    failed = \"Polling failed. Please try again\"\n",
    "    req = requests.get(url=operationsLocation, headers=headers)\n",
    "    if(req.status_code == 200):\n",
    "        pprint(\"Analysis complete\")\n",
    "        req.close()\n",
    "        return({\n",
    "            \"status\" : True,\n",
    "            \"text\" : req.json()\n",
    "        })\n",
    "    else:\n",
    "        flag = False\n",
    "        req.close()\n",
    "        retries = 5\n",
    "        count = 0\n",
    "        while(Flag != True):\n",
    "            time.sleep(1)\n",
    "            req = requests.get(url=operationsLocation, headers=headers)\n",
    "            req.close()\n",
    "            if(req.status_code == 200):\n",
    "                flag = True\n",
    "                pprint(\"Analysis complete after polling\")\n",
    "                return({\n",
    "                    \"status\" : True,\n",
    "                    \"text\" : req.json()\n",
    "                })\n",
    "            count = count + 1\n",
    "            if(count>=retries):\n",
    "                flag = True\n",
    "                return({\n",
    "                    \"status\" : False,\n",
    "                    \"text\" : req.reason\n",
    "                })\n",
    "        return(\"Something went wrong\")"
   ]
  },
  {
   "cell_type": "code",
   "execution_count": 117,
   "metadata": {},
   "outputs": [],
   "source": [
    "res,headers = generateOCRRequest()"
   ]
  },
  {
   "cell_type": "code",
   "execution_count": 121,
   "metadata": {},
   "outputs": [
    {
     "name": "stdout",
     "output_type": "stream",
     "text": [
      "'OCR submitted for analysis, stand by. This may take up to ten seconds'\n",
      "'Analysis complete'\n"
     ]
    }
   ],
   "source": [
    "jsonText = handleResponse(res,headers)"
   ]
  },
  {
   "cell_type": "code",
   "execution_count": 123,
   "metadata": {},
   "outputs": [
    {
     "data": {
      "text/plain": [
       "{'recognitionResult': {'lines': [{'boundingBox': [5,\n",
       "     8,\n",
       "     113,\n",
       "     9,\n",
       "     112,\n",
       "     28,\n",
       "     4,\n",
       "     27],\n",
       "    'text': 'Hemoglobin',\n",
       "    'words': [{'boundingBox': [6, 9, 116, 9, 116, 29, 6, 29],\n",
       "      'text': 'Hemoglobin'}]},\n",
       "   {'boundingBox': [452, 6, 540, 8, 539, 28, 451, 26],\n",
       "    'text': '14 . 1 8 / dL',\n",
       "    'words': [{'boundingBox': [456, 9, 480, 9, 475, 29, 451, 29],\n",
       "      'text': '14'},\n",
       "     {'boundingBox': [476, 9, 489, 9, 484, 29, 471, 29], 'text': '.'},\n",
       "     {'boundingBox': [485, 9, 499, 9, 494, 29, 480, 29], 'text': '1'},\n",
       "     {'boundingBox': [503, 9, 516, 9, 511, 29, 498, 29], 'text': '8'},\n",
       "     {'boundingBox': [512, 9, 526, 9, 521, 29, 507, 29], 'text': '/'},\n",
       "     {'boundingBox': [525, 9, 546, 9, 541, 29, 520, 29], 'text': 'dL'}]},\n",
       "   {'boundingBox': [5, 38, 99, 41, 98, 56, 4, 53],\n",
       "    'text': 'RBC Count',\n",
       "    'words': [{'boundingBox': [5, 40, 38, 40, 38, 55, 5, 55], 'text': 'RBC'},\n",
       "     {'boundingBox': [39, 40, 104, 40, 104, 55, 39, 55], 'text': 'Count'}]},\n",
       "   {'boundingBox': [449, 30, 513, 28, 514, 53, 450, 55],\n",
       "    'text': '43 . 2 96',\n",
       "    'words': [{'boundingBox': [450, 30, 480, 30, 481, 57, 451, 57],\n",
       "      'text': '43'},\n",
       "     {'boundingBox': [466, 30, 489, 29, 490, 56, 468, 57], 'text': '.'},\n",
       "     {'boundingBox': [477, 30, 500, 29, 501, 56, 479, 57], 'text': '2'},\n",
       "     {'boundingBox': [491, 29, 522, 29, 524, 56, 492, 56], 'text': '96'}]},\n",
       "   {'boundingBox': [4, 70, 46, 69, 47, 83, 5, 84],\n",
       "    'text': 'MEV',\n",
       "    'words': [{'boundingBox': [5, 69, 51, 70, 50, 86, 4, 85], 'text': 'MEV'}]},\n",
       "   {'boundingBox': [449, 69, 514, 68, 515, 83, 450, 84],\n",
       "    'text': '88.7 FL',\n",
       "    'words': [{'boundingBox': [450, 70, 494, 70, 494, 85, 450, 85],\n",
       "      'text': '88.7'},\n",
       "     {'boundingBox': [495, 70, 517, 70, 517, 85, 495, 85], 'text': 'FL'}]},\n",
       "   {'boundingBox': [0, 96, 46, 95, 47, 118, 0, 119],\n",
       "    'text': 'MUCH',\n",
       "    'words': [{'boundingBox': [6, 97, 55, 97, 54, 120, 5, 120],\n",
       "      'text': 'MUCH'}]},\n",
       "   {'boundingBox': [469, 97, 510, 101, 508, 118, 467, 114],\n",
       "    'text': '29 P',\n",
       "    'words': [{'boundingBox': [471, 98, 494, 100, 492, 118, 469, 116],\n",
       "      'text': '29'},\n",
       "     {'boundingBox': [499, 101, 510, 102, 509, 120, 497, 119], 'text': 'P'}]},\n",
       "   {'boundingBox': [4, 130, 60, 129, 61, 143, 5, 144],\n",
       "    'text': 'MCHC',\n",
       "    'words': [{'boundingBox': [5, 129, 63, 130, 63, 146, 5, 145],\n",
       "      'text': 'MCHC'}]},\n",
       "   {'boundingBox': [451, 125, 540, 128, 539, 149, 450, 146],\n",
       "    'text': '32 6 8 / AL',\n",
       "    'words': [{'boundingBox': [456, 128, 483, 128, 476, 149, 449, 149],\n",
       "      'text': '32'},\n",
       "     {'boundingBox': [483, 128, 498, 128, 491, 149, 476, 149], 'text': '6'},\n",
       "     {'boundingBox': [504, 128, 519, 128, 512, 149, 497, 149], 'text': '8'},\n",
       "     {'boundingBox': [513, 128, 528, 128, 521, 149, 506, 149], 'text': '/'},\n",
       "     {'boundingBox': [526, 128, 549, 128, 542, 149, 519, 149], 'text': 'AL'}]},\n",
       "   {'boundingBox': [5, 158, 251, 159, 250, 175, 4, 174],\n",
       "    'text': 'Red Cell Distribution Width',\n",
       "    'words': [{'boundingBox': [6, 160, 44, 160, 44, 176, 6, 176],\n",
       "      'text': 'Red'},\n",
       "     {'boundingBox': [38, 160, 83, 160, 83, 176, 38, 176], 'text': 'Cell'},\n",
       "     {'boundingBox': [79, 160, 191, 160, 191, 176, 78, 176],\n",
       "      'text': 'Distribution'},\n",
       "     {'boundingBox': [193, 160, 253, 160, 252, 176, 192, 176],\n",
       "      'text': 'Width'}]},\n",
       "   {'boundingBox': [450, 160, 513, 159, 514, 173, 451, 174],\n",
       "    'text': '139 9%',\n",
       "    'words': [{'boundingBox': [452, 161, 494, 161, 494, 175, 452, 175],\n",
       "      'text': '139'},\n",
       "     {'boundingBox': [496, 161, 518, 161, 518, 175, 496, 175], 'text': '9%'}]},\n",
       "   {'boundingBox': [2, 187, 209, 188, 208, 206, 1, 205],\n",
       "    'text': 'Total Leukocyte Count',\n",
       "    'words': [{'boundingBox': [4, 188, 59, 188, 59, 208, 4, 208],\n",
       "      'text': 'Total'},\n",
       "     {'boundingBox': [49, 188, 154, 187, 154, 207, 49, 208],\n",
       "      'text': 'Leukocyte'},\n",
       "     {'boundingBox': [147, 187, 217, 187, 217, 207, 147, 207],\n",
       "      'text': 'Count'}]},\n",
       "   {'boundingBox': [451, 187, 598, 188, 597, 207, 450, 206],\n",
       "    'text': '6 . 16 thou / mm 3',\n",
       "    'words': [{'boundingBox': [452, 189, 462, 189, 462, 208, 452, 208],\n",
       "      'text': '6'},\n",
       "     {'boundingBox': [459, 189, 473, 189, 473, 208, 459, 208], 'text': '.'},\n",
       "     {'boundingBox': [470, 189, 492, 189, 492, 208, 470, 208], 'text': '16'},\n",
       "     {'boundingBox': [497, 189, 543, 189, 543, 208, 497, 208], 'text': 'thou'},\n",
       "     {'boundingBox': [542, 189, 555, 189, 555, 208, 542, 208], 'text': '/'},\n",
       "     {'boundingBox': [550, 189, 581, 189, 581, 208, 550, 208], 'text': 'mm'},\n",
       "     {'boundingBox': [589, 189, 602, 189, 602, 208, 589, 208],\n",
       "      'text': '3'}]}]},\n",
       " 'status': 'Succeeded'}"
      ]
     },
     "execution_count": 123,
     "metadata": {},
     "output_type": "execute_result"
    }
   ],
   "source": [
    "jsonText['text']"
   ]
  },
  {
   "cell_type": "code",
   "execution_count": null,
   "metadata": {},
   "outputs": [],
   "source": []
  }
 ],
 "metadata": {
  "kernelspec": {
   "display_name": "Python 3",
   "language": "python",
   "name": "python3"
  },
  "language_info": {
   "codemirror_mode": {
    "name": "ipython",
    "version": 3
   },
   "file_extension": ".py",
   "mimetype": "text/x-python",
   "name": "python",
   "nbconvert_exporter": "python",
   "pygments_lexer": "ipython3",
   "version": "3.5.4"
  }
 },
 "nbformat": 4,
 "nbformat_minor": 2
}
